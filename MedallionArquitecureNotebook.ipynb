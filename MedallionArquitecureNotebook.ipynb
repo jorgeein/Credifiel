{
 "cells": [
  {
   "cell_type": "markdown",
   "id": "d5686aef",
   "metadata": {},
   "source": [
    "## Bronze"
   ]
  },
  {
   "cell_type": "markdown",
   "id": "5b575f58",
   "metadata": {},
   "source": [
    "this will be the bronze section. Basically ingesting data."
   ]
  },
  {
   "cell_type": "code",
   "execution_count": null,
   "id": "e58828ec",
   "metadata": {},
   "outputs": [],
   "source": [
    "import pandas as pd\n",
    "\n",
    "# List of Parquet files\n",
    "files = [\n",
    "    r\"C:\\Users\\ibarrj40\\OneDrive\\Documents\\GitHub\\Credifiel\\bronze\\ListaCobroDetalle2022.parquet\",\n",
    "    r\"C:\\Users\\ibarrj40\\OneDrive\\Documents\\GitHub\\Credifiel\\bronze\\ListaCobroDetalle2023.parquet\",\n",
    "    r\"C:\\Users\\ibarrj40\\OneDrive\\Documents\\GitHub\\Credifiel\\bronze\\ListaCobroDetalle2024.parquet\",\n",
    "    r\"C:\\Users\\ibarrj40\\OneDrive\\Documents\\GitHub\\Credifiel\\bronze\\ListaCobroDetalle2025.parquet\"\n",
    "]\n",
    "\n",
    "# Read and concatenate into one DataFrame\n",
    "df_append = pd.concat([pd.read_parquet(file) for file in files], ignore_index=True)\n"
   ]
  },
  {
   "cell_type": "code",
   "execution_count": null,
   "id": "0dcc8260",
   "metadata": {},
   "outputs": [],
   "source": [
    "df_bronze = df_append.copy()"
   ]
  },
  {
   "cell_type": "markdown",
   "id": "d7e06db9",
   "metadata": {},
   "source": [
    "##### Adding Catalogs."
   ]
  },
  {
   "cell_type": "code",
   "execution_count": null,
   "id": "9e55a359",
   "metadata": {},
   "outputs": [],
   "source": [
    "cat_banco = pd.read_parquet(\n",
    "    r\"C:\\Users\\ibarrj40\\OneDrive\\Documents\\GitHub\\Credifiel\\bronze\\CatBanco.parquet\",)\n",
    "cat_emisora = pd.read_parquet(\n",
    "    r\"C:\\Users\\ibarrj40\\OneDrive\\Documents\\GitHub\\Credifiel\\bronze\\CatEmisora.parquet\",)\n",
    "# Read the Parquet file\n",
    "cat_respuestabanco = pd.read_parquet(\n",
    "    r\"C:\\Users\\ibarrj40\\OneDrive\\Documents\\GitHub\\Credifiel\\bronze\\CatRespuestaBancos.parquet\",)\n",
    "# Read the Parquet file\n",
    "catlistemisora = pd.read_parquet(\n",
    "    r\"C:\\Users\\ibarrj40\\OneDrive\\Documents\\GitHub\\Credifiel\\bronze\\ListaCobroEmisora.parquet\",)\n",
    "cat_listacobro = pd.read_parquet(\n",
    "    r\"C:\\Users\\ibarrj40\\OneDrive\\Documents\\GitHub\\Credifiel\\bronze\\ListaCobro.parquet\",)\n",
    "df_newclients = pd.read_csv(r\"C:\\Users\\ibarrj40\\Downloads\\MontoCapital_Pagare_FechaAperturaCredito(Hoja1).csv\", encoding='latin1')\n",
    "cat_emisora_horarios = pd.read_parquet(\n",
    "    r\"C:\\Users\\ibarrj40\\OneDrive\\Documents\\GitHub\\Credifiel\\bronze\\banco_emisoras_horarios.parquet\",\n",
    ")   \n",
    "\n"
   ]
  },
  {
   "cell_type": "markdown",
   "id": "9e50ea2e",
   "metadata": {},
   "source": [
    "# Silver"
   ]
  },
  {
   "cell_type": "markdown",
   "id": "64cb819b",
   "metadata": {},
   "source": [
    "This is for making transformations, joins and castings.\n"
   ]
  },
  {
   "cell_type": "markdown",
   "id": "0078db3a",
   "metadata": {},
   "source": [
    "#### Merging with the catalog Banco"
   ]
  },
  {
   "cell_type": "code",
   "execution_count": null,
   "id": "1e4a4886",
   "metadata": {},
   "outputs": [],
   "source": [
    "cat_banco.head()\n",
    "# Merge the DataFrame with the catalog"
   ]
  },
  {
   "cell_type": "code",
   "execution_count": null,
   "id": "449ece01",
   "metadata": {},
   "outputs": [],
   "source": [
    "cat_banco.rename(columns={'IdBanco': 'idBanco'}, inplace=True)"
   ]
  },
  {
   "cell_type": "code",
   "execution_count": null,
   "id": "b2cfbb68",
   "metadata": {},
   "outputs": [],
   "source": [
    "df_append = df_append.merge(cat_banco, on='idBanco', how='left')\n",
    "df_append = df_append.rename(columns={'Nombre': 'Banco'})"
   ]
  },
  {
   "cell_type": "markdown",
   "id": "430b58d7",
   "metadata": {},
   "source": [
    "### Adding Respuestas Banco to the df"
   ]
  },
  {
   "cell_type": "code",
   "execution_count": null,
   "id": "f8290662",
   "metadata": {},
   "outputs": [],
   "source": [
    "\n",
    "\n",
    "cat_respuestabanco = cat_respuestabanco.rename(columns={'IdRespuestaBanco': 'idRespuestaBanco'})"
   ]
  },
  {
   "cell_type": "code",
   "execution_count": null,
   "id": "3b72eab7",
   "metadata": {},
   "outputs": [],
   "source": [
    "cat_respuestabanco.head()"
   ]
  },
  {
   "cell_type": "code",
   "execution_count": null,
   "id": "7e614808",
   "metadata": {},
   "outputs": [],
   "source": [
    "df_append = df_append.merge(cat_respuestabanco, on='idRespuestaBanco',  how='left')"
   ]
  },
  {
   "cell_type": "markdown",
   "id": "0fd50a14",
   "metadata": {},
   "source": [
    "### Adding Cat_emisora"
   ]
  },
  {
   "cell_type": "code",
   "execution_count": null,
   "id": "aa5b61a4",
   "metadata": {},
   "outputs": [],
   "source": [
    "cat_emisora = cat_emisora.rename(columns={'IdBanco': 'idBanco'})\n",
    "cat_emisora['idBanco'] = cat_emisora['idBanco'].astype(str)\n",
    "cat_banco['idBanco'] = cat_banco['idBanco'].astype(str)"
   ]
  },
  {
   "cell_type": "code",
   "execution_count": null,
   "id": "2b694020",
   "metadata": {},
   "outputs": [],
   "source": [
    "cat_emisora_wb = cat_emisora.merge(cat_banco, on='idBanco', how='left')\n"
   ]
  },
  {
   "cell_type": "code",
   "execution_count": null,
   "id": "f2b8ecc6",
   "metadata": {},
   "outputs": [],
   "source": [
    "\n",
    "cat_emisora_wb.rename(columns={'Nombre_x': 'Nombre_Emisora','Nombre_y': 'Nombre_Banco_Emisora', 'idBanco': 'idBanco_Emisora'}, inplace=True) \n",
    "cat_emisora_wb.head()\n"
   ]
  },
  {
   "cell_type": "markdown",
   "id": "96dd8d88",
   "metadata": {},
   "source": [
    "### Adding Lista Cobro Emisora with dates"
   ]
  },
  {
   "cell_type": "code",
   "execution_count": null,
   "id": "884f3649",
   "metadata": {},
   "outputs": [],
   "source": [
    "\n",
    "catlistemisora.head()\n",
    "\n"
   ]
  },
  {
   "cell_type": "code",
   "execution_count": null,
   "id": "dc637aa1",
   "metadata": {},
   "outputs": [],
   "source": [
    "catlistemisora['idEmisora'] = catlistemisora['idEmisora'].astype(str)\n",
    "cat_emisora_wb['idEmisora'] = cat_emisora_wb['idEmisora'].astype(str)\n",
    "\n",
    "\n",
    "cat_listacobroemisora = catlistemisora.merge(cat_emisora_wb, on='idEmisora', how='left')"
   ]
  },
  {
   "cell_type": "code",
   "execution_count": null,
   "id": "39d91bc1",
   "metadata": {},
   "outputs": [],
   "source": [
    "cat_listacobroemisora.head()"
   ]
  },
  {
   "cell_type": "code",
   "execution_count": null,
   "id": "e8b9ac9d",
   "metadata": {},
   "outputs": [],
   "source": [
    "df_append = df_append.merge(cat_listacobroemisora, on='idListaCobro', how='left')"
   ]
  },
  {
   "cell_type": "code",
   "execution_count": null,
   "id": "36ad2203",
   "metadata": {},
   "outputs": [],
   "source": [
    "df_append.head()"
   ]
  },
  {
   "cell_type": "code",
   "execution_count": null,
   "id": "e8bdc9d3",
   "metadata": {},
   "outputs": [],
   "source": [
    "df_append = df_append.merge(cat_respuestabanco, on='idRespuestaBanco', how='left')"
   ]
  },
  {
   "cell_type": "code",
   "execution_count": null,
   "id": "6a8c03b9",
   "metadata": {},
   "outputs": [],
   "source": [
    "df_append.drop(columns=['Descripcion_y'], inplace=True)\n",
    "df_append.rename(columns={'Descripcion_x': 'Descripcion'}, inplace=True)"
   ]
  },
  {
   "cell_type": "markdown",
   "id": "eed775d2",
   "metadata": {},
   "source": [
    "#### Merging with lista cobro"
   ]
  },
  {
   "cell_type": "code",
   "execution_count": null,
   "id": "ea0cde41",
   "metadata": {},
   "outputs": [],
   "source": [
    "df_append = df_append.merge(cat_listacobro, on='idListaCobro', how='left')"
   ]
  },
  {
   "cell_type": "code",
   "execution_count": null,
   "id": "1d8c8698",
   "metadata": {},
   "outputs": [],
   "source": [
    "df_append.head()"
   ]
  },
  {
   "cell_type": "code",
   "execution_count": null,
   "id": "a2bd11b7",
   "metadata": {},
   "outputs": [],
   "source": [
    "df_append.drop(columns=['idBanco_y'], inplace=True, errors='ignore')\n"
   ]
  },
  {
   "cell_type": "code",
   "execution_count": null,
   "id": "24a67281",
   "metadata": {},
   "outputs": [],
   "source": [
    "df_append.drop_duplicates()"
   ]
  },
  {
   "cell_type": "markdown",
   "id": "5472a16e",
   "metadata": {},
   "source": [
    "## Applying the Schema to the dataframe"
   ]
  },
  {
   "cell_type": "code",
   "execution_count": null,
   "id": "3ff4e6c7",
   "metadata": {
    "vscode": {
     "languageId": "javascript"
    }
   },
   "outputs": [],
   "source": [
    "df_append['idListaCobro'] = pd.to_numeric(df_append['idListaCobro'], errors='coerce')\n",
    "df_append['idCredito'] = pd.to_numeric(df_append['idCredito'], errors='coerce')\n",
    "df_append['consecutivoCobro'] = pd.to_numeric(df_append['consecutivoCobro'], errors='coerce')\n",
    "df_append['montoExigible'] = pd.to_numeric(df_append['montoExigible'], errors='coerce')\n",
    "df_append['montoCobrar'] = pd.to_numeric(df_append['montoCobrar'], errors='coerce')\n",
    "df_append['montoCobrado'] = pd.to_numeric(df_append['montoCobrado'], errors='coerce')\n",
    "df_append['idRespuestaBanco'] = df_append['idRespuestaBanco'].astype('string')\n",
    "df_append['fechaCobroBanco'] = pd.to_datetime(df_append['fechaCobroBanco'], errors='coerce')\n",
    "df_append['Banco'] = df_append['Banco'].astype('string')\n",
    "df_append['Descripcion_y'] = df_append['Descripcion_y'].astype('string')\n",
    "df_append['idEmisora'] = pd.to_numeric(df_append['idEmisora'], errors='coerce')\n",
    "df_append['Nombre_y'] = df_append['Nombre_y'].astype('string')\n",
    "df_append['IdBanco'] = pd.to_numeric(df_append['IdBanco'], errors='coerce')\n",
    "df_append['TipoEnvio'] = df_append['TipoEnvio'].astype('string')\n"
   ]
  },
  {
   "cell_type": "code",
   "execution_count": null,
   "id": "2a847080",
   "metadata": {
    "vscode": {
     "languageId": "javascript"
    }
   },
   "outputs": [],
   "source": [
    "df_newclients.rename(columns={\n",
    "    'Crédito': 'IDCREDITO',\n",
    "    'Capital Inicial': 'CAPITAL_INICIAL',\n",
    "    'Pagaré': 'CREDITO_A_PAGAR',\n",
    "    'FechaApertura': 'FECHA_APERTURA_CREDITO',\n",
    "})"
   ]
  },
  {
   "cell_type": "code",
   "execution_count": null,
   "id": "d9916588",
   "metadata": {
    "vscode": {
     "languageId": "javascript"
    }
   },
   "outputs": [],
   "source": [
    "cat_emisora_horarios = pd.read_parquet(\n",
    "    r\"C:\\Users\\ibarrj40\\OneDrive\\Documents\\GitHub\\Credifiel\\bronze\\banco_emisoras_horarios.parquet\",\n",
    ")   \n",
    "\n",
    "# Cambiar tipo de la columna 'EMISORA' a string\n",
    "cat_emisora_horarios['EMISORA'] = cat_emisora_horarios['EMISORA'].astype('string')\n",
    "\n",
    "# Convertir las columnas de hora a datetime.time\n",
    "cat_emisora_horarios['INICIO HORARIO LIMITE CARGA BANCARIA'] = pd.to_datetime(\n",
    "    cat_emisora_horarios['INICIO HORARIO LIMITE CARGA BANCARIA'], format='%H:%M'\n",
    ").dt.time\n",
    "\n",
    "cat_emisora_horarios['FIN HORARIO LIMITE CARGA BANCARIA'] = pd.to_datetime(\n",
    "    cat_emisora_horarios['FIN HORARIO LIMITE CARGA BANCARIIA'], format='%H:%M'\n",
    ").dt.time\n",
    "\n",
    "cat_emisora_horarios.rename(columns={\n",
    "    'INICIO HORARIO LIMITE CARGA BANCARIA': 'inicio_horario_limite_carga_bancaria',\n",
    "    'FIN HORARIO LIMITE CARGA BANCARIA': 'fin_horario_limite_carga_bancaria',\n",
    "    'EMISORA': 'Emisora'\n",
    "}, inplace=True)\n",
    "# Merge con el DataFrame principal\n",
    "\n",
    "df_append.rename(columns={'Emisora_x': 'Emisora'}, inplace=True)\n",
    "cat_emisora_horarios['Emisora'] = cat_emisora_horarios['Emisora'].astype('string')\n",
    "\n",
    "print(cat_emisora_horarios.columns)\n",
    "df_append = df_append.merge(cat_emisora_horarios, left_on='Emisora', right_on='Emisora', how='left')"
   ]
  },
  {
   "cell_type": "code",
   "execution_count": null,
   "id": "378fb701",
   "metadata": {
    "vscode": {
     "languageId": "javascript"
    }
   },
   "outputs": [],
   "source": [
    "df_newclients['IDCREDITO'] = pd.to_numeric(df_newclients['IDCREDITO'], errors='coerce')\n",
    "df_newclients['FECHA_APERTURA_CREDITO'] = pd.to_datetime(df_newclients['FECHA_APERTURA_CREDITO'], errors='coerce')\n",
    "df_newclients['CAPITAL_INICIAL'] = pd.to_numeric(\n",
    "    df_newclients['CAPITAL_INICIAL'].str.replace(',', '', regex=False),\n",
    "    errors='coerce'\n",
    ")\n",
    "df_newclients['CREDITO_A_PAGAR'] = pd.to_numeric(\n",
    "    df_newclients['CREDITO_A_PAGAR'].str.replace(',', '', regex=False),\n",
    "    errors='coerce'\n",
    ")"
   ]
  },
  {
   "cell_type": "code",
   "execution_count": null,
   "id": "bb9a76c5",
   "metadata": {},
   "outputs": [],
   "source": [
    "# Elimina columnas duplicadas (mantiene la primera aparición)\n",
    "df_append = df_append.loc[:, ~df_append.columns.duplicated()]\n"
   ]
  },
  {
   "cell_type": "code",
   "execution_count": null,
   "id": "bc726400",
   "metadata": {
    "vscode": {
     "languageId": "javascript"
    }
   },
   "outputs": [],
   "source": [
    "df_append.columns = df_append.columns.str.upper()"
   ]
  },
  {
   "cell_type": "code",
   "execution_count": null,
   "id": "f60001e9",
   "metadata": {
    "vscode": {
     "languageId": "javascript"
    }
   },
   "outputs": [],
   "source": [
    "df_silver = df_append.copy()"
   ]
  },
  {
   "cell_type": "markdown",
   "id": "c3228223",
   "metadata": {},
   "source": [
    "# Gold"
   ]
  },
  {
   "cell_type": "markdown",
   "id": "44f6881a",
   "metadata": {},
   "source": [
    "Gold is for user business data, ready to consume with new aggregated values"
   ]
  },
  {
   "cell_type": "code",
   "execution_count": null,
   "id": "31793b3d",
   "metadata": {
    "vscode": {
     "languageId": "javascript"
    }
   },
   "outputs": [],
   "source": [
    "df_gold = df_append.copy()"
   ]
  },
  {
   "cell_type": "code",
   "execution_count": null,
   "id": "5dbef71f",
   "metadata": {
    "vscode": {
     "languageId": "javascript"
    }
   },
   "outputs": [],
   "source": [
    "df_gold[\"isSuccessful\"] = df_gold[\"MONTOCOBRADO\"].ne(0)"
   ]
  },
  {
   "cell_type": "code",
   "execution_count": null,
   "id": "656e4934",
   "metadata": {
    "vscode": {
     "languageId": "javascript"
    }
   },
   "outputs": [],
   "source": [
    "df_gold.head()"
   ]
  },
  {
   "cell_type": "code",
   "execution_count": null,
   "id": "fa2f11d1",
   "metadata": {
    "vscode": {
     "languageId": "javascript"
    }
   },
   "outputs": [],
   "source": [
    "df_gold_newclients = df_gold.merge(\n",
    "    df_newclients,\n",
    "    left_on='IDCREDITO',\n",
    "    right_on='IDCREDITO',\n",
    "    how='inner'\n",
    ")"
   ]
  },
  {
   "cell_type": "code",
   "execution_count": null,
   "id": "889379c2",
   "metadata": {
    "vscode": {
     "languageId": "javascript"
    }
   },
   "outputs": [],
   "source": [
    "df_gold_newclients = df_gold_newclients[df_gold_newclients['CAPITAL_INICIAL'].notna()]"
   ]
  },
  {
   "cell_type": "code",
   "execution_count": null,
   "id": "875764b1",
   "metadata": {
    "vscode": {
     "languageId": "javascript"
    }
   },
   "outputs": [],
   "source": [
    "df_gold_newclients "
   ]
  },
  {
   "cell_type": "code",
   "execution_count": null,
   "id": "bf682c31",
   "metadata": {
    "vscode": {
     "languageId": "javascript"
    }
   },
   "outputs": [],
   "source": [
    "df_gold['FECHACREACIONLISTA'] = pd.to_datetime(df_gold['FECHACREACIONLISTA'], errors='coerce', dayfirst=True)\n",
    "df_gold = df_gold.sort_values(by=['IDCREDITO', 'FECHACREACIONLISTA'], ascending=False)\n",
    "df_gold['INTENDODECOBRO'] = df_gold.groupby('IDCREDITO').cumcount() + 1\n",
    "df_gold['INTENDODECOBRO'] = df_gold['INTENDODECOBRO'].astype('Int64')\n",
    "df_gold = df_gold[df_gold[\"SERVICIO\"].isnull()]\n",
    "df_gold.drop(columns=['SERVICIO', 'CANAL DE ENVIO', 'TIPO ENVIO', 'COBROS'], inplace=True, errors='ignore')\n",
    "df_gold.drop(columns=['FECHACOBROBANCO', 'FECHACREACIONLISTA'], inplace=True, errors='ignore')\n",
    "df_gold.drop(columns=['INICIO_HORARIO_LIMITE_CARGA_BANCARIA', 'FIN HORARIO LIMITE CARGA BANCARIIA', 'IDBANCO_EMISORA'], inplace=True, errors='ignore')\n",
    "\n",
    "#fill nulls\n",
    "df_gold['DESCRIPCION'] = df_gold['DESCRIPCION'].fillna('Domiciliacion Exitosa').astype(str)\n"
   ]
  },
  {
   "cell_type": "code",
   "execution_count": null,
   "id": "e69e7be0",
   "metadata": {
    "vscode": {
     "languageId": "javascript"
    }
   },
   "outputs": [],
   "source": [
    "df_checkemisoras_gold = df_gold.groupby(\n",
    "    ['NOMBRE_EMISORA'],\n",
    "    as_index=False\n",
    ").agg({\n",
    "    'MONTOCOBRADO': 'sum',\n",
    "    'MONTOEXIGIBLE': 'sum',\n",
    "    'MONTOCOBRAR': 'sum',\n",
    "})"
   ]
  },
  {
   "cell_type": "code",
   "execution_count": null,
   "id": "e510fa77",
   "metadata": {
    "vscode": {
     "languageId": "javascript"
    }
   },
   "outputs": [],
   "source": [
    "\n",
    "import numpy as np\n",
    "\n",
    "df_checkemisoras_gold['Percentaje'] = df_checkemisoras_gold['MONTOCOBRADO'] / df_checkemisoras_gold['MONTOEXIGIBLE']\n",
    "df_checkemisoras_gold['Percentaje'] = pd.to_numeric(df_checkemisoras_gold['Percentaje'], errors='coerce')\n",
    "df_checkemisoras_gold['Percentaje'] = df_checkemisoras_gold['Percentaje'].replace([np.inf, -np.inf], np.nan)\n",
    "df_checkemisoras_gold['Percentaje'] = df_checkemisoras_gold['Percentaje'].fillna(0)\n",
    "df_checkemisoras_gold = df_checkemisoras_gold.sort_values(by='Percentaje', ascending=False)\n",
    "df_checkemisoras_gold = df_checkemisoras_gold.reset_index(drop=True)\n"
   ]
  },
  {
   "cell_type": "markdown",
   "id": "d0dc3d90",
   "metadata": {},
   "source": [
    "## To parquets"
   ]
  },
  {
   "cell_type": "code",
   "execution_count": null,
   "id": "21ef08b8",
   "metadata": {},
   "outputs": [],
   "source": [
    "df_bronze.to_parquet(\n",
    "    r\"C:\\Users\\ibarrj40\\OneDrive\\Documents\\GitHub\\Credifiel\\bronze\\bronze_2022_2025.parquet\",\n",
    "    index=False\n",
    ")"
   ]
  },
  {
   "cell_type": "code",
   "execution_count": null,
   "id": "a9b3bdbc",
   "metadata": {},
   "outputs": [],
   "source": [
    "df_silver.to_parquet(\n",
    "    r\"C:\\Users\\ibarrj40\\OneDrive\\Documents\\GitHub\\Credifiel\\silver\\silver.parquet\",\n",
    "    index=False\n",
    ")"
   ]
  },
  {
   "cell_type": "code",
   "execution_count": null,
   "id": "3c64353f",
   "metadata": {},
   "outputs": [],
   "source": [
    "df_gold.to_parquet(\n",
    "    r\"C:\\Users\\ibarrj40\\OneDrive\\Documents\\GitHub\\Credifiel\\gold\\gold.parquet\",\n",
    "    index=False\n",
    ")"
   ]
  },
  {
   "cell_type": "code",
   "execution_count": null,
   "id": "ea6deaec",
   "metadata": {},
   "outputs": [],
   "source": [
    "df_gold_newclients.to_parquet(\n",
    "    r\"C:\\Users\\ibarrj40\\OneDrive\\Documents\\GitHub\\Credifiel\\gold\\gold_newclients.parquet\",\n",
    "    index=False\n",
    ")"
   ]
  },
  {
   "cell_type": "code",
   "execution_count": null,
   "id": "4075fa0d",
   "metadata": {},
   "outputs": [],
   "source": [
    "df_checkemisoras_gold.to_parquet(\n",
    "    r\"C:\\Users\\ibarrj40\\OneDrive\\Documents\\GitHub\\Credifiel\\gold\\checkemisoras_gold.parquet\",\n",
    "    index=False\n",
    ")"
   ]
  },
  {
   "cell_type": "markdown",
   "id": "cea90cf6",
   "metadata": {},
   "source": [
    "# Insights"
   ]
  },
  {
   "cell_type": "code",
   "execution_count": null,
   "id": "985ed72a",
   "metadata": {},
   "outputs": [],
   "source": [
    "# 1. Emisoras con al menos un pago exitoso\n",
    "emisoras_con_exito = df_append[df_append['idCredito'].isin(creditos_con_exito)]['Nombre_x'].unique()\n",
    "\n",
    "# 2. Emisoras que nunca fallaron\n",
    "emisoras_nunca_fallaron = df_append[df_append['idCredito'].isin(creditos_nunca_fallaron)]['Nombre_x'].unique()\n",
    "\n",
    "print(\"🟢 Emisoras cuyos créditos nunca fallaron:\")\n",
    "print(emisoras_nunca_fallaron)\n",
    "\n",
    "print(\"\\n🟡 Emisoras con al menos un pago exitoso:\")\n",
    "print(emisoras_con_exito)\n"
   ]
  },
  {
   "cell_type": "code",
   "execution_count": null,
   "id": "e2a8781e",
   "metadata": {},
   "outputs": [],
   "source": [
    "# Total de intentos por emisora\n",
    "total_por_emisora = df_append.groupby('Nombre_x')['isSuccessful'].count()\n",
    "\n",
    "# Fallos por emisora\n",
    "fallos_por_emisora = df_append[df_append['isSuccessful'] == False].groupby('Nombre_x')['isSuccessful'].count()\n",
    "\n",
    "# Porcentaje de fallos\n",
    "porcentaje_fallos_emisora = (fallos_por_emisora / total_por_emisora) * 100\n",
    "porcentaje_fallos_emisora = porcentaje_fallos_emisora.sort_values(ascending=False)\n",
    "\n",
    "# Mostrar resultados\n",
    "print(\"\\n🔴 Porcentaje de fallos por emisora:\")\n",
    "display(porcentaje_fallos_emisora.round(2))\n",
    "\n",
    "# Emisora con mayor porcentaje de fallos\n",
    "emisora_peor = porcentaje_fallos_emisora.idxmax()\n",
    "porcentaje_peor = porcentaje_fallos_emisora.max()\n",
    "\n",
    "display(porcentaje_fallos_emisora)\n",
    "print(f\"\\n❌ Emisora con mayor porcentaje de fallos: {emisora_peor} ({porcentaje_peor:.2f}%)\")\n"
   ]
  },
  {
   "cell_type": "code",
   "execution_count": null,
   "id": "4e3a3d9d",
   "metadata": {},
   "outputs": [],
   "source": [
    "# Total de créditos únicos\n",
    "total_creditos = df_append['idCredito'].nunique()\n",
    "\n",
    "# Agrupar por idCredito y verificar si hay al menos un pago exitoso\n",
    "con_al_menos_un_pago = df_append.groupby('idCredito')['isSuccessful'].any()\n",
    "\n",
    "# Agrupar por idCredito y verificar si **todos** los pagos fueron exitosos\n",
    "nunca_dejaron_de_pagar = df_append.groupby('idCredito')['isSuccessful'].all()\n",
    "\n",
    "# Calcular porcentaje de cada uno\n",
    "porcentaje_con_al_menos_un_pago = (con_al_menos_un_pago.sum() / total_creditos) * 100\n",
    "porcentaje_nunca_fallaron = (nunca_dejaron_de_pagar.sum() / total_creditos) * 100\n",
    "\n",
    "# Mostrar resultados\n",
    "print(f\"✅ Porcentaje de créditos con al menos un pago exitoso: {porcentaje_con_al_menos_un_pago:.2f}%\")\n",
    "print(f\"🔁 Porcentaje de créditos que nunca dejaron de pagar: {porcentaje_nunca_fallaron:.2f}%\")\n"
   ]
  },
  {
   "cell_type": "code",
   "execution_count": null,
   "id": "1ca5eb0d",
   "metadata": {},
   "outputs": [],
   "source": [
    "# Obtener los idCredito que tuvieron al menos un pago exitoso\n",
    "creditos_con_exito = con_al_menos_un_pago[con_al_menos_un_pago == True].index\n",
    "\n",
    "# Obtener los idCredito que nunca dejaron de pagar\n",
    "creditos_nunca_fallaron = nunca_dejaron_de_pagar[nunca_dejaron_de_pagar == True].index\n",
    "\n",
    "# Filtrar el DataFrame original por esos créditos y obtener los bancos involucrados\n",
    "bancos_con_exito = df_append[df_append['idCredito'].isin(creditos_con_exito)]['Banco'].unique()\n",
    "bancos_nunca_fallaron = df_append[df_append['idCredito'].isin(creditos_nunca_fallaron)]['Banco'].unique()\n",
    "\n",
    "# Mostrar los bancos\n",
    "print(\"🏦 Bancos con al menos un pago exitoso:\")\n",
    "display(bancos_con_exito)\n",
    "\n",
    "print(\"\\n🏦 Bancos cuyos créditos nunca fallaron en pagar:\")\n",
    "display(bancos_nunca_fallaron)\n"
   ]
  },
  {
   "cell_type": "code",
   "execution_count": null,
   "id": "1f1cfb79",
   "metadata": {},
   "outputs": [],
   "source": [
    "# Total de intentos por banco\n",
    "total_por_banco = df_append.groupby('Banco')['isSuccessful'].count()\n",
    "\n",
    "# Total de fallos por banco (donde isSuccessful == False)\n",
    "fallos_por_banco = df_append[df_append['isSuccessful'] == False].groupby('Banco')['isSuccessful'].count()\n",
    "\n",
    "# Calcular porcentaje de fallos por banco\n",
    "porcentaje_fallos = (fallos_por_banco / total_por_banco) * 100\n",
    "\n",
    "# Ordenar de mayor a menor\n",
    "porcentaje_fallos = porcentaje_fallos.sort_values(ascending=False)\n",
    "\n",
    "# Mostrar resultados\n",
    "print(\"📉 Porcentaje de fallos por banco:\")\n",
    "print(porcentaje_fallos.round(2))\n",
    "\n",
    "# Banco con mayor porcentaje de fallos\n",
    "banco_peor = porcentaje_fallos.idxmax()\n",
    "porcentaje_peor = porcentaje_fallos.max()\n",
    "\n",
    "print(f\"\\n❌ Banco con mayor porcentaje de fallos: {banco_peor} ({porcentaje_peor:.2f}%)\")\n"
   ]
  },
  {
   "cell_type": "code",
   "execution_count": null,
   "id": "61731063",
   "metadata": {},
   "outputs": [],
   "source": [
    "# Agrupar por banco y calcular tasa de éxito: promedio de isSuccessful\n",
    "banco_success_rate = df_append.groupby('Banco')['isSuccessful'].mean().sort_values(ascending=False) * 100\n",
    "\n",
    "# Mostrar todos los bancos con su tasa de éxito\n",
    "print(\"📊 Porcentaje de éxito por banco:\")\n",
    "print(banco_success_rate.round(2))\n",
    "\n",
    "# Banco con mayor éxito\n",
    "banco_top = banco_success_rate.idxmax()\n",
    "porcentaje_top = banco_success_rate.max()\n",
    "\n",
    "print(f\"\\n🏆 Banco con mayor éxito: {banco_top} ({porcentaje_top:.2f}%)\")\n"
   ]
  },
  {
   "cell_type": "code",
   "execution_count": null,
   "id": "0f1e412b",
   "metadata": {},
   "outputs": [],
   "source": [
    "# Agrupar por día y mes, calcular porcentaje de éxito\n",
    "df_append['day'] = df_append['fechaEnvioCobro'].dt.day\n",
    "df_append['month'] = df_append['fechaEnvioCobro'].dt.month\n",
    "\n",
    "# Filtrar solo fechas válidas\n",
    "# Porcentaje de éxito por día\n",
    "success_by_day = (\n",
    "    df_append.groupby('day')['isSuccessful']\n",
    "    .mean()\n",
    "    .reset_index()\n",
    "    .rename(columns={'isSuccessful': 'success_rate'})\n",
    "    .sort_values('success_rate', ascending=False)\n",
    ")\n",
    "\n",
    "display(success_by_day)\n",
    "\n",
    "# Porcentaje de éxito por mes\n",
    "success_by_month = (\n",
    "    df_append.groupby('month')['isSuccessful']\n",
    "    .mean()\n",
    "    .reset_index()\n",
    "    .rename(columns={'isSuccessful': 'success_rate'})\n",
    "    .sort_values('success_rate', ascending=False)\n",
    ")\n",
    "\n",
    "display(success_by_month)\n",
    "\n",
    "# DataFrame con meses y éxitos\n",
    "df_month_success = (\n",
    "    df_append.groupby('month')['isSuccessful']\n",
    "    .sum()\n",
    "    .reset_index()\n",
    "    .rename(columns={'isSuccessful': 'success_count'})\n",
    ")\n",
    "display(df_month_success)\n",
    "\n",
    "\n",
    "success_by_day, success_by_month, df_month_success"
   ]
  }
 ],
 "metadata": {
  "kernelspec": {
   "display_name": "Python 3",
   "language": "python",
   "name": "python3"
  },
  "language_info": {
   "codemirror_mode": {
    "name": "ipython",
    "version": 3
   },
   "file_extension": ".py",
   "mimetype": "text/x-python",
   "name": "python",
   "nbconvert_exporter": "python",
   "pygments_lexer": "ipython3",
   "version": "3.13.3"
  }
 },
 "nbformat": 4,
 "nbformat_minor": 5
}
